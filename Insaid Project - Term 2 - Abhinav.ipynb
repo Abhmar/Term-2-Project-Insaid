{
 "cells": [
  {
   "cell_type": "markdown",
   "metadata": {},
   "source": [
    "# The problem statement is of cars dataset having 156 observation and 16 different variables. Linear regression model has been applied to predict the sales of car"
   ]
  },
  {
   "cell_type": "markdown",
   "metadata": {},
   "source": [
    "## 1. Importing the data set"
   ]
  },
  {
   "cell_type": "code",
   "execution_count": 8,
   "metadata": {},
   "outputs": [
    {
     "data": {
      "text/html": [
       "<div>\n",
       "<style scoped>\n",
       "    .dataframe tbody tr th:only-of-type {\n",
       "        vertical-align: middle;\n",
       "    }\n",
       "\n",
       "    .dataframe tbody tr th {\n",
       "        vertical-align: top;\n",
       "    }\n",
       "\n",
       "    .dataframe thead th {\n",
       "        text-align: right;\n",
       "    }\n",
       "</style>\n",
       "<table border=\"1\" class=\"dataframe\">\n",
       "  <thead>\n",
       "    <tr style=\"text-align: right;\">\n",
       "      <th></th>\n",
       "      <th>Manufacturer</th>\n",
       "      <th>Model</th>\n",
       "      <th>Sales_in_thousands</th>\n",
       "      <th>_year_resale_value</th>\n",
       "      <th>Vehicle_type</th>\n",
       "      <th>Price_in_thousands</th>\n",
       "      <th>Engine_size</th>\n",
       "      <th>Horsepower</th>\n",
       "      <th>Wheelbase</th>\n",
       "      <th>Width</th>\n",
       "      <th>Length</th>\n",
       "      <th>Curb_weight</th>\n",
       "      <th>Fuel_capacity</th>\n",
       "      <th>Fuel_efficiency</th>\n",
       "      <th>Latest_Launch</th>\n",
       "      <th>Power_perf_factor</th>\n",
       "    </tr>\n",
       "  </thead>\n",
       "  <tbody>\n",
       "    <tr>\n",
       "      <th>0</th>\n",
       "      <td>Acura</td>\n",
       "      <td>Integra</td>\n",
       "      <td>16.919</td>\n",
       "      <td>16.360</td>\n",
       "      <td>Passenger</td>\n",
       "      <td>21.50</td>\n",
       "      <td>1.8</td>\n",
       "      <td>140</td>\n",
       "      <td>101.2</td>\n",
       "      <td>67.3</td>\n",
       "      <td>172.4</td>\n",
       "      <td>2.639</td>\n",
       "      <td>13.2</td>\n",
       "      <td>28</td>\n",
       "      <td>2/2/2012</td>\n",
       "      <td>58.280150</td>\n",
       "    </tr>\n",
       "    <tr>\n",
       "      <th>1</th>\n",
       "      <td>Acura</td>\n",
       "      <td>TL</td>\n",
       "      <td>39.384</td>\n",
       "      <td>19.875</td>\n",
       "      <td>Passenger</td>\n",
       "      <td>28.40</td>\n",
       "      <td>3.2</td>\n",
       "      <td>225</td>\n",
       "      <td>108.1</td>\n",
       "      <td>70.3</td>\n",
       "      <td>192.9</td>\n",
       "      <td>3.517</td>\n",
       "      <td>17.2</td>\n",
       "      <td>25</td>\n",
       "      <td>6/3/2011</td>\n",
       "      <td>91.370778</td>\n",
       "    </tr>\n",
       "    <tr>\n",
       "      <th>2</th>\n",
       "      <td>Acura</td>\n",
       "      <td>CL</td>\n",
       "      <td>14.114</td>\n",
       "      <td>18.225</td>\n",
       "      <td>Passenger</td>\n",
       "      <td>29.00</td>\n",
       "      <td>3.2</td>\n",
       "      <td>225</td>\n",
       "      <td>106.9</td>\n",
       "      <td>70.6</td>\n",
       "      <td>192.0</td>\n",
       "      <td>3.470</td>\n",
       "      <td>17.2</td>\n",
       "      <td>26</td>\n",
       "      <td>1/4/2012</td>\n",
       "      <td>90.345000</td>\n",
       "    </tr>\n",
       "    <tr>\n",
       "      <th>3</th>\n",
       "      <td>Acura</td>\n",
       "      <td>RL</td>\n",
       "      <td>8.588</td>\n",
       "      <td>29.725</td>\n",
       "      <td>Passenger</td>\n",
       "      <td>42.00</td>\n",
       "      <td>3.5</td>\n",
       "      <td>210</td>\n",
       "      <td>114.6</td>\n",
       "      <td>71.4</td>\n",
       "      <td>196.6</td>\n",
       "      <td>3.850</td>\n",
       "      <td>18.0</td>\n",
       "      <td>22</td>\n",
       "      <td>3/10/2011</td>\n",
       "      <td>91.389779</td>\n",
       "    </tr>\n",
       "    <tr>\n",
       "      <th>4</th>\n",
       "      <td>Audi</td>\n",
       "      <td>A4</td>\n",
       "      <td>20.397</td>\n",
       "      <td>22.255</td>\n",
       "      <td>Passenger</td>\n",
       "      <td>23.99</td>\n",
       "      <td>1.8</td>\n",
       "      <td>150</td>\n",
       "      <td>102.6</td>\n",
       "      <td>68.2</td>\n",
       "      <td>178.0</td>\n",
       "      <td>2.998</td>\n",
       "      <td>16.4</td>\n",
       "      <td>27</td>\n",
       "      <td>10/8/2011</td>\n",
       "      <td>62.777639</td>\n",
       "    </tr>\n",
       "  </tbody>\n",
       "</table>\n",
       "</div>"
      ],
      "text/plain": [
       "  Manufacturer    Model  Sales_in_thousands  _year_resale_value Vehicle_type  \\\n",
       "0        Acura  Integra              16.919              16.360    Passenger   \n",
       "1        Acura       TL              39.384              19.875    Passenger   \n",
       "2        Acura       CL              14.114              18.225    Passenger   \n",
       "3        Acura       RL               8.588              29.725    Passenger   \n",
       "4         Audi       A4              20.397              22.255    Passenger   \n",
       "\n",
       "   Price_in_thousands  Engine_size  Horsepower  Wheelbase  Width  Length  \\\n",
       "0               21.50          1.8         140      101.2   67.3   172.4   \n",
       "1               28.40          3.2         225      108.1   70.3   192.9   \n",
       "2               29.00          3.2         225      106.9   70.6   192.0   \n",
       "3               42.00          3.5         210      114.6   71.4   196.6   \n",
       "4               23.99          1.8         150      102.6   68.2   178.0   \n",
       "\n",
       "   Curb_weight  Fuel_capacity  Fuel_efficiency Latest_Launch  \\\n",
       "0        2.639           13.2               28      2/2/2012   \n",
       "1        3.517           17.2               25      6/3/2011   \n",
       "2        3.470           17.2               26      1/4/2012   \n",
       "3        3.850           18.0               22     3/10/2011   \n",
       "4        2.998           16.4               27     10/8/2011   \n",
       "\n",
       "   Power_perf_factor  \n",
       "0          58.280150  \n",
       "1          91.370778  \n",
       "2          90.345000  \n",
       "3          91.389779  \n",
       "4          62.777639  "
      ]
     },
     "execution_count": 8,
     "metadata": {},
     "output_type": "execute_result"
    }
   ],
   "source": [
    "import pandas as pd\n",
    "import seaborn as sns\n",
    "car = pd.read_csv(\"https://raw.githubusercontent.com/insaid2018/Term-2/master/Data/car_sales.csv\")\n",
    "car.head(5)"
   ]
  },
  {
   "cell_type": "code",
   "execution_count": 3,
   "metadata": {},
   "outputs": [
    {
     "name": "stdout",
     "output_type": "stream",
     "text": [
      "<class 'pandas.core.frame.DataFrame'>\n",
      "RangeIndex: 156 entries, 0 to 155\n",
      "Data columns (total 16 columns):\n",
      "Manufacturer          156 non-null object\n",
      "Model                 156 non-null object\n",
      "Sales_in_thousands    151 non-null float64\n",
      "_year_resale_value    156 non-null float64\n",
      "Vehicle_type          156 non-null object\n",
      "Price_in_thousands    156 non-null float64\n",
      "Engine_size           156 non-null float64\n",
      "Horsepower            156 non-null int64\n",
      "Wheelbase             156 non-null float64\n",
      "Width                 156 non-null float64\n",
      "Length                156 non-null float64\n",
      "Curb_weight           156 non-null float64\n",
      "Fuel_capacity         156 non-null float64\n",
      "Fuel_efficiency       156 non-null int64\n",
      "Latest_Launch         156 non-null object\n",
      "Power_perf_factor     156 non-null float64\n",
      "dtypes: float64(10), int64(2), object(4)\n",
      "memory usage: 19.6+ KB\n"
     ]
    }
   ],
   "source": [
    "car.info()"
   ]
  },
  {
   "cell_type": "markdown",
   "metadata": {},
   "source": [
    "## 2. Shape and descriptive statistics for data"
   ]
  },
  {
   "cell_type": "code",
   "execution_count": 107,
   "metadata": {},
   "outputs": [
    {
     "data": {
      "text/plain": [
       "(156, 16)"
      ]
     },
     "execution_count": 107,
     "metadata": {},
     "output_type": "execute_result"
    }
   ],
   "source": [
    "car.shape"
   ]
  },
  {
   "cell_type": "code",
   "execution_count": 105,
   "metadata": {},
   "outputs": [
    {
     "data": {
      "text/html": [
       "<div>\n",
       "<style scoped>\n",
       "    .dataframe tbody tr th:only-of-type {\n",
       "        vertical-align: middle;\n",
       "    }\n",
       "\n",
       "    .dataframe tbody tr th {\n",
       "        vertical-align: top;\n",
       "    }\n",
       "\n",
       "    .dataframe thead th {\n",
       "        text-align: right;\n",
       "    }\n",
       "</style>\n",
       "<table border=\"1\" class=\"dataframe\">\n",
       "  <thead>\n",
       "    <tr style=\"text-align: right;\">\n",
       "      <th></th>\n",
       "      <th>Sales_in_thousands</th>\n",
       "      <th>_year_resale_value</th>\n",
       "      <th>Price_in_thousands</th>\n",
       "      <th>Engine_size</th>\n",
       "      <th>Horsepower</th>\n",
       "      <th>Wheelbase</th>\n",
       "      <th>Width</th>\n",
       "      <th>Length</th>\n",
       "      <th>Curb_weight</th>\n",
       "      <th>Fuel_capacity</th>\n",
       "      <th>Fuel_efficiency</th>\n",
       "      <th>Power_perf_factor</th>\n",
       "    </tr>\n",
       "  </thead>\n",
       "  <tbody>\n",
       "    <tr>\n",
       "      <th>count</th>\n",
       "      <td>156.000000</td>\n",
       "      <td>156.000000</td>\n",
       "      <td>156.000000</td>\n",
       "      <td>156.000000</td>\n",
       "      <td>156.000000</td>\n",
       "      <td>156.000000</td>\n",
       "      <td>156.000000</td>\n",
       "      <td>156.000000</td>\n",
       "      <td>156.000000</td>\n",
       "      <td>156.000000</td>\n",
       "      <td>156.000000</td>\n",
       "      <td>156.000000</td>\n",
       "    </tr>\n",
       "    <tr>\n",
       "      <th>mean</th>\n",
       "      <td>57.858817</td>\n",
       "      <td>18.063571</td>\n",
       "      <td>27.401071</td>\n",
       "      <td>3.060897</td>\n",
       "      <td>185.948718</td>\n",
       "      <td>107.487179</td>\n",
       "      <td>71.150000</td>\n",
       "      <td>187.343590</td>\n",
       "      <td>3.380462</td>\n",
       "      <td>17.951923</td>\n",
       "      <td>23.833333</td>\n",
       "      <td>77.128857</td>\n",
       "    </tr>\n",
       "    <tr>\n",
       "      <th>std</th>\n",
       "      <td>74.966671</td>\n",
       "      <td>10.076941</td>\n",
       "      <td>14.305863</td>\n",
       "      <td>1.044653</td>\n",
       "      <td>56.700321</td>\n",
       "      <td>7.641303</td>\n",
       "      <td>3.451872</td>\n",
       "      <td>13.431754</td>\n",
       "      <td>0.629200</td>\n",
       "      <td>3.887921</td>\n",
       "      <td>4.256052</td>\n",
       "      <td>25.084045</td>\n",
       "    </tr>\n",
       "    <tr>\n",
       "      <th>min</th>\n",
       "      <td>0.110000</td>\n",
       "      <td>5.160000</td>\n",
       "      <td>9.235000</td>\n",
       "      <td>1.000000</td>\n",
       "      <td>55.000000</td>\n",
       "      <td>92.600000</td>\n",
       "      <td>62.600000</td>\n",
       "      <td>149.400000</td>\n",
       "      <td>1.895000</td>\n",
       "      <td>10.300000</td>\n",
       "      <td>15.000000</td>\n",
       "      <td>23.276272</td>\n",
       "    </tr>\n",
       "    <tr>\n",
       "      <th>25%</th>\n",
       "      <td>14.035000</td>\n",
       "      <td>12.527500</td>\n",
       "      <td>18.081250</td>\n",
       "      <td>2.300000</td>\n",
       "      <td>149.500000</td>\n",
       "      <td>103.000000</td>\n",
       "      <td>68.400000</td>\n",
       "      <td>177.575000</td>\n",
       "      <td>2.973000</td>\n",
       "      <td>15.800000</td>\n",
       "      <td>21.000000</td>\n",
       "      <td>60.567577</td>\n",
       "    </tr>\n",
       "    <tr>\n",
       "      <th>50%</th>\n",
       "      <td>29.213000</td>\n",
       "      <td>17.617500</td>\n",
       "      <td>23.099500</td>\n",
       "      <td>3.000000</td>\n",
       "      <td>177.500000</td>\n",
       "      <td>107.000000</td>\n",
       "      <td>70.550000</td>\n",
       "      <td>187.900000</td>\n",
       "      <td>3.355000</td>\n",
       "      <td>17.200000</td>\n",
       "      <td>24.000000</td>\n",
       "      <td>72.160636</td>\n",
       "    </tr>\n",
       "    <tr>\n",
       "      <th>75%</th>\n",
       "      <td>71.690250</td>\n",
       "      <td>18.089731</td>\n",
       "      <td>31.938750</td>\n",
       "      <td>3.575000</td>\n",
       "      <td>215.000000</td>\n",
       "      <td>112.200000</td>\n",
       "      <td>73.425000</td>\n",
       "      <td>196.125000</td>\n",
       "      <td>3.788750</td>\n",
       "      <td>19.575000</td>\n",
       "      <td>26.000000</td>\n",
       "      <td>89.623790</td>\n",
       "    </tr>\n",
       "    <tr>\n",
       "      <th>max</th>\n",
       "      <td>540.561000</td>\n",
       "      <td>67.550000</td>\n",
       "      <td>85.500000</td>\n",
       "      <td>8.000000</td>\n",
       "      <td>450.000000</td>\n",
       "      <td>138.700000</td>\n",
       "      <td>79.900000</td>\n",
       "      <td>224.500000</td>\n",
       "      <td>5.572000</td>\n",
       "      <td>32.000000</td>\n",
       "      <td>45.000000</td>\n",
       "      <td>188.144323</td>\n",
       "    </tr>\n",
       "  </tbody>\n",
       "</table>\n",
       "</div>"
      ],
      "text/plain": [
       "       Sales_in_thousands  _year_resale_value  Price_in_thousands  \\\n",
       "count          156.000000          156.000000          156.000000   \n",
       "mean            57.858817           18.063571           27.401071   \n",
       "std             74.966671           10.076941           14.305863   \n",
       "min              0.110000            5.160000            9.235000   \n",
       "25%             14.035000           12.527500           18.081250   \n",
       "50%             29.213000           17.617500           23.099500   \n",
       "75%             71.690250           18.089731           31.938750   \n",
       "max            540.561000           67.550000           85.500000   \n",
       "\n",
       "       Engine_size  Horsepower   Wheelbase       Width      Length  \\\n",
       "count   156.000000  156.000000  156.000000  156.000000  156.000000   \n",
       "mean      3.060897  185.948718  107.487179   71.150000  187.343590   \n",
       "std       1.044653   56.700321    7.641303    3.451872   13.431754   \n",
       "min       1.000000   55.000000   92.600000   62.600000  149.400000   \n",
       "25%       2.300000  149.500000  103.000000   68.400000  177.575000   \n",
       "50%       3.000000  177.500000  107.000000   70.550000  187.900000   \n",
       "75%       3.575000  215.000000  112.200000   73.425000  196.125000   \n",
       "max       8.000000  450.000000  138.700000   79.900000  224.500000   \n",
       "\n",
       "       Curb_weight  Fuel_capacity  Fuel_efficiency  Power_perf_factor  \n",
       "count   156.000000     156.000000       156.000000         156.000000  \n",
       "mean      3.380462      17.951923        23.833333          77.128857  \n",
       "std       0.629200       3.887921         4.256052          25.084045  \n",
       "min       1.895000      10.300000        15.000000          23.276272  \n",
       "25%       2.973000      15.800000        21.000000          60.567577  \n",
       "50%       3.355000      17.200000        24.000000          72.160636  \n",
       "75%       3.788750      19.575000        26.000000          89.623790  \n",
       "max       5.572000      32.000000        45.000000         188.144323  "
      ]
     },
     "execution_count": 105,
     "metadata": {},
     "output_type": "execute_result"
    }
   ],
   "source": [
    "car.describe()"
   ]
  },
  {
   "cell_type": "markdown",
   "metadata": {},
   "source": [
    "Variation is high for Sales.\n",
    "Range of 75th percentile to Max is high for Sales. There is probablity of have outlier in Sales"
   ]
  },
  {
   "cell_type": "markdown",
   "metadata": {},
   "source": [
    "## 3. Replacing missing value with median for Sales"
   ]
  },
  {
   "cell_type": "code",
   "execution_count": 9,
   "metadata": {},
   "outputs": [
    {
     "name": "stdout",
     "output_type": "stream",
     "text": [
      "Manufacturer          0\n",
      "Model                 0\n",
      "Sales_in_thousands    0\n",
      "_year_resale_value    0\n",
      "Vehicle_type          0\n",
      "Price_in_thousands    0\n",
      "Engine_size           0\n",
      "Horsepower            0\n",
      "Wheelbase             0\n",
      "Width                 0\n",
      "Length                0\n",
      "Curb_weight           0\n",
      "Fuel_capacity         0\n",
      "Fuel_efficiency       0\n",
      "Latest_Launch         0\n",
      "Power_perf_factor     0\n",
      "dtype: int64\n"
     ]
    }
   ],
   "source": [
    "def lr():\n",
    "    car[\"Sales_in_thousands\"].fillna(car.groupby(\"Manufacturer\")[\"Sales_in_thousands\"].transform(\"median\"), inplace=True)\n",
    "    return\n",
    "lr()\n",
    "print (car.isnull().sum())"
   ]
  },
  {
   "cell_type": "markdown",
   "metadata": {},
   "source": [
    "## 4. Dummy variable creation for Vehicle Type"
   ]
  },
  {
   "cell_type": "code",
   "execution_count": 108,
   "metadata": {},
   "outputs": [
    {
     "data": {
      "text/html": [
       "<div>\n",
       "<style scoped>\n",
       "    .dataframe tbody tr th:only-of-type {\n",
       "        vertical-align: middle;\n",
       "    }\n",
       "\n",
       "    .dataframe tbody tr th {\n",
       "        vertical-align: top;\n",
       "    }\n",
       "\n",
       "    .dataframe thead th {\n",
       "        text-align: right;\n",
       "    }\n",
       "</style>\n",
       "<table border=\"1\" class=\"dataframe\">\n",
       "  <thead>\n",
       "    <tr style=\"text-align: right;\">\n",
       "      <th></th>\n",
       "      <th>Manufacturer</th>\n",
       "      <th>Model</th>\n",
       "      <th>Sales_in_thousands</th>\n",
       "      <th>_year_resale_value</th>\n",
       "      <th>Price_in_thousands</th>\n",
       "      <th>Engine_size</th>\n",
       "      <th>Horsepower</th>\n",
       "      <th>Wheelbase</th>\n",
       "      <th>Width</th>\n",
       "      <th>Length</th>\n",
       "      <th>Curb_weight</th>\n",
       "      <th>Fuel_capacity</th>\n",
       "      <th>Fuel_efficiency</th>\n",
       "      <th>Latest_Launch</th>\n",
       "      <th>Power_perf_factor</th>\n",
       "      <th>Vehicle_type_Passenger</th>\n",
       "    </tr>\n",
       "  </thead>\n",
       "  <tbody>\n",
       "    <tr>\n",
       "      <th>0</th>\n",
       "      <td>Acura</td>\n",
       "      <td>Integra</td>\n",
       "      <td>16.919</td>\n",
       "      <td>16.360</td>\n",
       "      <td>21.50</td>\n",
       "      <td>1.8</td>\n",
       "      <td>140</td>\n",
       "      <td>101.2</td>\n",
       "      <td>67.3</td>\n",
       "      <td>172.4</td>\n",
       "      <td>2.639</td>\n",
       "      <td>13.2</td>\n",
       "      <td>28</td>\n",
       "      <td>2/2/2012</td>\n",
       "      <td>58.280150</td>\n",
       "      <td>1</td>\n",
       "    </tr>\n",
       "    <tr>\n",
       "      <th>1</th>\n",
       "      <td>Acura</td>\n",
       "      <td>TL</td>\n",
       "      <td>39.384</td>\n",
       "      <td>19.875</td>\n",
       "      <td>28.40</td>\n",
       "      <td>3.2</td>\n",
       "      <td>225</td>\n",
       "      <td>108.1</td>\n",
       "      <td>70.3</td>\n",
       "      <td>192.9</td>\n",
       "      <td>3.517</td>\n",
       "      <td>17.2</td>\n",
       "      <td>25</td>\n",
       "      <td>6/3/2011</td>\n",
       "      <td>91.370778</td>\n",
       "      <td>1</td>\n",
       "    </tr>\n",
       "    <tr>\n",
       "      <th>2</th>\n",
       "      <td>Acura</td>\n",
       "      <td>CL</td>\n",
       "      <td>14.114</td>\n",
       "      <td>18.225</td>\n",
       "      <td>29.00</td>\n",
       "      <td>3.2</td>\n",
       "      <td>225</td>\n",
       "      <td>106.9</td>\n",
       "      <td>70.6</td>\n",
       "      <td>192.0</td>\n",
       "      <td>3.470</td>\n",
       "      <td>17.2</td>\n",
       "      <td>26</td>\n",
       "      <td>1/4/2012</td>\n",
       "      <td>90.345000</td>\n",
       "      <td>1</td>\n",
       "    </tr>\n",
       "    <tr>\n",
       "      <th>3</th>\n",
       "      <td>Acura</td>\n",
       "      <td>RL</td>\n",
       "      <td>8.588</td>\n",
       "      <td>29.725</td>\n",
       "      <td>42.00</td>\n",
       "      <td>3.5</td>\n",
       "      <td>210</td>\n",
       "      <td>114.6</td>\n",
       "      <td>71.4</td>\n",
       "      <td>196.6</td>\n",
       "      <td>3.850</td>\n",
       "      <td>18.0</td>\n",
       "      <td>22</td>\n",
       "      <td>3/10/2011</td>\n",
       "      <td>91.389779</td>\n",
       "      <td>1</td>\n",
       "    </tr>\n",
       "    <tr>\n",
       "      <th>4</th>\n",
       "      <td>Audi</td>\n",
       "      <td>A4</td>\n",
       "      <td>20.397</td>\n",
       "      <td>22.255</td>\n",
       "      <td>23.99</td>\n",
       "      <td>1.8</td>\n",
       "      <td>150</td>\n",
       "      <td>102.6</td>\n",
       "      <td>68.2</td>\n",
       "      <td>178.0</td>\n",
       "      <td>2.998</td>\n",
       "      <td>16.4</td>\n",
       "      <td>27</td>\n",
       "      <td>10/8/2011</td>\n",
       "      <td>62.777639</td>\n",
       "      <td>1</td>\n",
       "    </tr>\n",
       "  </tbody>\n",
       "</table>\n",
       "</div>"
      ],
      "text/plain": [
       "  Manufacturer    Model  Sales_in_thousands  _year_resale_value  \\\n",
       "0        Acura  Integra              16.919              16.360   \n",
       "1        Acura       TL              39.384              19.875   \n",
       "2        Acura       CL              14.114              18.225   \n",
       "3        Acura       RL               8.588              29.725   \n",
       "4         Audi       A4              20.397              22.255   \n",
       "\n",
       "   Price_in_thousands  Engine_size  Horsepower  Wheelbase  Width  Length  \\\n",
       "0               21.50          1.8         140      101.2   67.3   172.4   \n",
       "1               28.40          3.2         225      108.1   70.3   192.9   \n",
       "2               29.00          3.2         225      106.9   70.6   192.0   \n",
       "3               42.00          3.5         210      114.6   71.4   196.6   \n",
       "4               23.99          1.8         150      102.6   68.2   178.0   \n",
       "\n",
       "   Curb_weight  Fuel_capacity  Fuel_efficiency Latest_Launch  \\\n",
       "0        2.639           13.2               28      2/2/2012   \n",
       "1        3.517           17.2               25      6/3/2011   \n",
       "2        3.470           17.2               26      1/4/2012   \n",
       "3        3.850           18.0               22     3/10/2011   \n",
       "4        2.998           16.4               27     10/8/2011   \n",
       "\n",
       "   Power_perf_factor  Vehicle_type_Passenger  \n",
       "0          58.280150                       1  \n",
       "1          91.370778                       1  \n",
       "2          90.345000                       1  \n",
       "3          91.389779                       1  \n",
       "4          62.777639                       1  "
      ]
     },
     "execution_count": 108,
     "metadata": {},
     "output_type": "execute_result"
    }
   ],
   "source": [
    "car_dummy =pd.DataFrame()                                           \n",
    "def lr(car):\n",
    "    dummies = pd.get_dummies(car, columns=['Vehicle_type'], drop_first=True)\n",
    "    return dummies\n",
    "car_dummy = lr(car)\n",
    "car_dummy.head()"
   ]
  },
  {
   "cell_type": "markdown",
   "metadata": {},
   "source": [
    "## 5. Data restructure by dropping non impacting columns while predicting Sales"
   ]
  },
  {
   "cell_type": "code",
   "execution_count": 109,
   "metadata": {},
   "outputs": [
    {
     "name": "stdout",
     "output_type": "stream",
     "text": [
      "     Sales_in_thousands  _year_resale_value  Price_in_thousands  Engine_size  \\\n",
      "0                16.919           16.360000              21.500          1.8   \n",
      "1                39.384           19.875000              28.400          3.2   \n",
      "2                14.114           18.225000              29.000          3.2   \n",
      "3                 8.588           29.725000              42.000          3.5   \n",
      "4                20.397           22.255000              23.990          1.8   \n",
      "5                18.780           23.555000              33.950          2.8   \n",
      "6                 1.380           39.000000              62.000          4.2   \n",
      "7                19.747           18.072975              26.990          2.5   \n",
      "8                 9.231           28.675000              33.400          2.8   \n",
      "9                17.527           36.125000              38.900          2.8   \n",
      "10               91.561           12.475000              21.975          3.1   \n",
      "11               39.350           13.740000              25.300          3.8   \n",
      "12               27.851           20.190000              31.965          3.8   \n",
      "13               83.257           13.360000              27.885          3.8   \n",
      "14               63.729           22.525000              39.895          4.6   \n",
      "15               15.943           27.100000              44.475          4.6   \n",
      "16                6.536           25.725000              39.665          4.6   \n",
      "17               11.185           18.225000              31.010          3.0   \n",
      "18               14.785           18.072975              46.225          5.7   \n",
      "19              145.519            9.250000              13.260          2.2   \n",
      "20              135.126           11.225000              16.535          3.1   \n",
      "21               24.629           10.310000              18.890          3.1   \n",
      "22               42.593           11.525000              19.390          3.4   \n",
      "23               26.402           13.025000              24.340          3.8   \n",
      "24               17.947           36.225000              45.705          5.7   \n",
      "25               32.299            9.125000              13.960          1.8   \n",
      "26               21.855            5.160000               9.235          1.0   \n",
      "27              107.995           18.072975              18.890          3.4   \n",
      "28                7.854           12.360000              19.840          2.5   \n",
      "29               32.775           14.180000              24.495          2.5   \n",
      "..                  ...                 ...                 ...          ...   \n",
      "126               9.191           18.072975              33.120          2.3   \n",
      "127              12.115           18.072975              26.100          2.0   \n",
      "128              80.620            9.200000              10.685          1.9   \n",
      "129              24.546           10.590000              12.535          1.9   \n",
      "130               5.223           10.790000              14.290          1.9   \n",
      "131               8.472           18.072975              18.835          2.2   \n",
      "132              49.989           18.072975              15.010          2.2   \n",
      "133              47.107           18.072975              22.695          2.5   \n",
      "134              33.028           18.072975              20.095          2.5   \n",
      "135             142.535           10.025000              13.108          1.8   \n",
      "136             247.994           13.245000              17.518          2.2   \n",
      "137              63.849           18.140000              25.545          3.0   \n",
      "138              33.269           15.445000              16.875          1.8   \n",
      "139              84.087            9.575000              11.528          2.4   \n",
      "140              65.119           18.072975              22.368          3.0   \n",
      "141              25.106           13.325000              16.888          2.0   \n",
      "142              68.411           19.425000              22.288          2.7   \n",
      "143               9.835           34.080000              51.728          4.7   \n",
      "144               9.761           11.425000              14.900          2.0   \n",
      "145              83.721           13.240000              16.700          2.0   \n",
      "146              51.102           16.725000              21.200          1.8   \n",
      "147               9.569           16.575000              19.990          2.0   \n",
      "148               5.596           13.760000              17.500          2.0   \n",
      "149              49.463           18.072975              15.900          2.0   \n",
      "150              16.957           18.072975              23.400          1.9   \n",
      "151               3.545           18.072975              24.400          1.9   \n",
      "152              15.245           18.072975              27.500          2.4   \n",
      "153              17.531           18.072975              28.800          2.4   \n",
      "154               3.493           18.072975              45.500          2.3   \n",
      "155              18.969           18.072975              36.000          2.9   \n",
      "\n",
      "     Horsepower  Wheelbase  Width  Fuel_capacity  Fuel_efficiency  \\\n",
      "0           140      101.2   67.3           13.2               28   \n",
      "1           225      108.1   70.3           17.2               25   \n",
      "2           225      106.9   70.6           17.2               26   \n",
      "3           210      114.6   71.4           18.0               22   \n",
      "4           150      102.6   68.2           16.4               27   \n",
      "5           200      108.7   76.1           18.5               22   \n",
      "6           310      113.0   74.0           23.7               21   \n",
      "7           170      107.3   68.4           16.6               26   \n",
      "8           193      107.3   68.5           16.6               24   \n",
      "9           193      111.4   70.9           18.5               25   \n",
      "10          175      109.0   72.7           17.5               25   \n",
      "11          240      109.0   72.7           17.5               23   \n",
      "12          205      113.8   74.7           18.5               24   \n",
      "13          205      112.2   73.5           17.5               25   \n",
      "14          275      115.3   74.5           18.5               22   \n",
      "15          275      112.2   75.0           18.5               22   \n",
      "16          275      108.0   75.5           19.0               22   \n",
      "17          200      107.4   70.3           18.0               22   \n",
      "18          255      117.5   77.0           30.0               15   \n",
      "19          115      104.1   67.9           14.3               27   \n",
      "20          170      107.0   69.4           15.0               25   \n",
      "21          175      107.5   72.5           16.6               25   \n",
      "22          180      110.5   72.7           17.0               27   \n",
      "23          200      101.1   74.1           16.8               25   \n",
      "24          345      104.5   73.6           19.1               22   \n",
      "25          120       97.1   66.7           13.2               33   \n",
      "26           55       93.1   62.6           10.3               45   \n",
      "27          180      110.5   73.0           17.0               27   \n",
      "28          163      103.7   69.7           15.9               24   \n",
      "29          168      106.0   69.2           16.0               24   \n",
      "..          ...        ...    ...            ...              ...   \n",
      "126         170      106.4   70.6           18.5               23   \n",
      "127         185      102.6   67.4           16.9               23   \n",
      "128         100      102.4   66.4           12.1               33   \n",
      "129         100      102.4   66.4           12.1               33   \n",
      "130         124      102.4   66.4           12.1               31   \n",
      "131         137      106.5   69.0           13.1               27   \n",
      "132         137      106.5   69.0           13.1               28   \n",
      "133         165      103.5   67.5           16.9               25   \n",
      "134         165       99.4   68.3           15.9               24   \n",
      "135         120       97.0   66.7           13.2               33   \n",
      "136         133      105.2   70.1           18.5               27   \n",
      "137         210      107.1   71.7           18.5               26   \n",
      "138         140      102.4   68.3           14.5               31   \n",
      "139         142      103.3   66.5           15.1               23   \n",
      "140         194      114.2   73.4           20.9               22   \n",
      "141         127       94.9   66.7           15.3               27   \n",
      "142         150      105.3   66.5           18.5               23   \n",
      "143         230      112.2   76.4           25.4               15   \n",
      "144         115       98.9   68.3           14.5               26   \n",
      "145         115       98.9   68.3           14.5               26   \n",
      "146         150      106.4   68.5           16.4               27   \n",
      "147         115       97.4   66.7           13.7               26   \n",
      "148         115       98.9   68.3           14.6               26   \n",
      "149         115       98.9   67.9           14.5               26   \n",
      "150         160      100.5   67.6           15.8               25   \n",
      "151         160      100.5   67.6           15.8               25   \n",
      "152         168      104.9   69.3           17.9               25   \n",
      "153         168      104.9   69.3           17.9               25   \n",
      "154         236      104.9   71.5           18.5               23   \n",
      "155         201      109.9   72.1           21.1               24   \n",
      "\n",
      "     Power_perf_factor  Vehicle_type_Passenger  \n",
      "0            58.280150                       1  \n",
      "1            91.370778                       1  \n",
      "2            90.345000                       1  \n",
      "3            91.389779                       1  \n",
      "4            62.777639                       1  \n",
      "5            84.565105                       1  \n",
      "6           134.656858                       1  \n",
      "7            71.191207                       1  \n",
      "8            81.877069                       1  \n",
      "9            83.998724                       1  \n",
      "10           71.181451                       1  \n",
      "11           95.636703                       1  \n",
      "12           85.828408                       1  \n",
      "13           84.254526                       1  \n",
      "14          113.854598                       1  \n",
      "15          115.621358                       1  \n",
      "16          113.765874                       1  \n",
      "17           83.483094                       1  \n",
      "18          109.509117                       0  \n",
      "19           46.363347                       1  \n",
      "20           67.314462                       1  \n",
      "21           69.991396                       1  \n",
      "22           72.030917                       1  \n",
      "23           81.118543                       1  \n",
      "24          141.141150                       1  \n",
      "25           48.297636                       1  \n",
      "26           23.276272                       1  \n",
      "27           71.838039                       1  \n",
      "28           65.957184                       1  \n",
      "29           69.521355                       1  \n",
      "..                 ...                     ...  \n",
      "126          73.503778                       1  \n",
      "127          76.023048                       1  \n",
      "128          39.986425                       1  \n",
      "129          40.700072                       1  \n",
      "130          49.865774                       1  \n",
      "131          56.295243                       1  \n",
      "132          54.819728                       1  \n",
      "133          67.765908                       1  \n",
      "134          66.762943                       0  \n",
      "135          47.968972                       1  \n",
      "136          54.372420                       1  \n",
      "137          84.911898                       1  \n",
      "138          56.496030                       1  \n",
      "139          55.297117                       0  \n",
      "140          78.027219                       0  \n",
      "141          51.955109                       0  \n",
      "142          62.355577                       0  \n",
      "143         102.528984                       0  \n",
      "144          46.943877                       1  \n",
      "145          47.638237                       1  \n",
      "146          61.701381                       1  \n",
      "147          48.907372                       1  \n",
      "148          47.946841                       1  \n",
      "149          47.329632                       1  \n",
      "150          66.113057                       1  \n",
      "151          66.498812                       1  \n",
      "152          70.654495                       1  \n",
      "153          71.155978                       1  \n",
      "154         101.623357                       1  \n",
      "155          85.735655                       1  \n",
      "\n",
      "[156 rows x 11 columns]\n"
     ]
    }
   ],
   "source": [
    "def lr(car_dummy):\n",
    "    car_drop = car_dummy.drop(car_dummy[['Manufacturer', 'Model', 'Latest_Launch','Length','Curb_weight']], axis=1)\n",
    "    return car_drop\n",
    "car_dummy = lr(car_dummy)\n",
    "print(car_dummy)"
   ]
  },
  {
   "cell_type": "markdown",
   "metadata": {},
   "source": [
    "## 6. Correlation among variables"
   ]
  },
  {
   "cell_type": "code",
   "execution_count": 60,
   "metadata": {},
   "outputs": [
    {
     "data": {
      "image/png": "[encoded data removed]",
      "text/plain": [
       "<Figure size 432x288 with 2 Axes>"
      ]
     },
     "metadata": {
      "needs_background": "light"
     },
     "output_type": "display_data"
    }
   ],
   "source": [
    "def lr():\n",
    "    import seaborn as sns\n",
    "    sns.heatmap(car_dummy.corr(),annot= True)\n",
    "    return None \n",
    "lr()"
   ]
  },
  {
   "cell_type": "markdown",
   "metadata": {},
   "source": [
    "Price_in_thousands and year_resale_value are highly correlated = 0.82\n",
    "Price_in_thousands and Horsepower are highlighy correlated = 0.84\n",
    "Horsepower and Power_perf_factor are extremely correlated = 0.99\n",
    "Engine_size and Horsepower are highly correlated = 0.84\n",
    "Fuel_Efficiency is negatively correlated with Fuel_Capacity = -0.8\n",
    "\n",
    "Sustaining Horsepower column and dropping others as the impact of horsepower on Sales would clearly demonstrate the impact of other fields\n",
    "\n",
    "Sales does not have any correlation impact with any independent factor. Therefore, other factors would be important to analyze the regression model for Sales"
   ]
  },
  {
   "cell_type": "markdown",
   "metadata": {},
   "source": [
    "## 7. Dropping column with high correlation"
   ]
  },
  {
   "cell_type": "code",
   "execution_count": 61,
   "metadata": {},
   "outputs": [],
   "source": [
    "def lr(car_dummy):\n",
    "    car_drop = car_dummy.drop(car_dummy[['Price_in_thousands', 'Engine_size', '_year_resale_value','Power_perf_factor']], axis=1)\n",
    "    return car_drop\n",
    "car_dummy = lr(car_dummy)"
   ]
  },
  {
   "cell_type": "markdown",
   "metadata": {},
   "source": [
    "## 8. Pairplot mapping for variable with low correlation"
   ]
  },
  {
   "cell_type": "code",
   "execution_count": 64,
   "metadata": {},
   "outputs": [
    {
     "name": "stderr",
     "output_type": "stream",
     "text": [
      "C:\\Users\\amarwah\\AppData\\Local\\Continuum\\anaconda3\\lib\\site-packages\\seaborn\\axisgrid.py:2065: UserWarning: The `size` parameter has been renamed to `height`; pleaes update your code.\n",
      "  warnings.warn(msg, UserWarning)\n"
     ]
    },
    {
     "data": {
      "image/png": "[encoded data removed]",
      "text/plain": [
       "<Figure size 1008x1008 with 56 Axes>"
      ]
     },
     "metadata": {
      "needs_background": "light"
     },
     "output_type": "display_data"
    }
   ],
   "source": [
    "def lr():\n",
    "    import seaborn as sns\n",
    "    sns.pairplot(car_dummy,size = 2, aspect = 1)\n",
    "    return None \n",
    "lr()"
   ]
  },
  {
   "cell_type": "markdown",
   "metadata": {},
   "source": [
    "More than 95% of the data lies within 100 to 200 horsepower range. Vehicles with low horsepower are sold higher than high horsepower\n",
    "Outliers for Fuel efficiency where Sales is showing low for high fuel efficiency and high for low fuel efficiency "
   ]
  },
  {
   "cell_type": "markdown",
   "metadata": {},
   "source": [
    "## 9. Scaling the variable for ease of data compution"
   ]
  },
  {
   "cell_type": "code",
   "execution_count": 82,
   "metadata": {},
   "outputs": [
    {
     "name": "stdout",
     "output_type": "stream",
     "text": [
      "[-0.2472341   0.69094938  0.08045672 -0.24703626 -0.19402264  0.27500229\n",
      "  0.58722022]\n"
     ]
    },
    {
     "name": "stderr",
     "output_type": "stream",
     "text": [
      "C:\\Users\\amarwah\\AppData\\Local\\Continuum\\anaconda3\\lib\\site-packages\\sklearn\\preprocessing\\data.py:625: DataConversionWarning: Data with input dtype uint8, int64, float64 were all converted to float64 by StandardScaler.\n",
      "  return self.partial_fit(X, y)\n",
      "C:\\Users\\amarwah\\AppData\\Local\\Continuum\\anaconda3\\lib\\site-packages\\ipykernel_launcher.py:6: DataConversionWarning: Data with input dtype uint8, int64, float64 were all converted to float64 by StandardScaler.\n",
      "  \n"
     ]
    }
   ],
   "source": [
    "std = pd.DataFrame()\n",
    "car_modify = car_dummy\n",
    "def lr(car_modify):\n",
    "    from sklearn.preprocessing import StandardScaler\n",
    "    scaler = StandardScaler().fit(car_modify)\n",
    "    st = scaler.transform(car_modify)\n",
    "    return st\n",
    "std = lr(car_modify)\n",
    "print(std[1])"
   ]
  },
  {
   "cell_type": "markdown",
   "metadata": {},
   "source": [
    "## 10. Preparation of independent variable for model"
   ]
  },
  {
   "cell_type": "code",
   "execution_count": 79,
   "metadata": {},
   "outputs": [
    {
     "name": "stdout",
     "output_type": "stream",
     "text": [
      "     Horsepower  Wheelbase     Width  Fuel_capacity  Fuel_efficiency  \\\n",
      "0     -0.812988  -0.825439 -1.118929      -1.226164         0.982151   \n",
      "1      0.690949   0.080457 -0.247036      -0.194023         0.275002   \n",
      "2      0.690949  -0.077090 -0.159847      -0.194023         0.510719   \n",
      "3      0.425549   0.933837  0.072658       0.012406        -0.432146   \n",
      "4     -0.636055  -0.641634 -0.857361      -0.400451         0.746435   \n",
      "5      0.248615   0.159230  1.438623       0.141423        -0.432146   \n",
      "6      2.194887   0.723774  0.828298       1.483206        -0.667863   \n",
      "7     -0.282187  -0.024575 -0.799235      -0.348844         0.510719   \n",
      "8      0.124761  -0.024575 -0.770172      -0.348844         0.039286   \n",
      "9      0.124761   0.513711 -0.072658       0.141423         0.275002   \n",
      "10    -0.193720   0.198617  0.450478      -0.116612         0.275002   \n",
      "11     0.956350   0.198617  0.450478      -0.116612        -0.196430   \n",
      "12     0.337082   0.828805  1.031740       0.141423         0.039286   \n",
      "13     0.337082   0.618742  0.682983      -0.116612         0.275002   \n",
      "14     1.575619   1.025739  0.973614       0.141423        -0.432146   \n",
      "15     1.575619   0.618742  1.118929       0.141423        -0.432146   \n",
      "16     1.575619   0.067328  1.264244       0.270441        -0.432146   \n",
      "17     0.248615  -0.011446 -0.247036       0.012406        -0.432146   \n",
      "18     1.221751   1.314575  1.700191       3.108828        -2.082160   \n",
      "19    -1.255323  -0.444700 -0.944550      -0.942325         0.746435   \n",
      "20    -0.282187  -0.063961 -0.508604      -0.761700         0.275002   \n",
      "21    -0.193720   0.001683  0.392352      -0.348844         0.275002   \n",
      "22    -0.105253   0.395551  0.450478      -0.245630         0.746435   \n",
      "23     0.248615  -0.838568  0.857361      -0.297237         0.275002   \n",
      "24     2.814156  -0.392184  0.712046       0.296244        -0.432146   \n",
      "25    -1.166856  -1.363725 -1.293307      -1.226164         2.160732   \n",
      "26    -2.316926  -1.888881 -2.484894      -1.974466         4.989327   \n",
      "27    -0.105253   0.395551  0.537667      -0.245630         0.746435   \n",
      "28    -0.406041  -0.497216 -0.421415      -0.529468         0.039286   \n",
      "29    -0.317574  -0.195251 -0.566730      -0.503665         0.039286   \n",
      "..          ...        ...       ...            ...              ...   \n",
      "126   -0.282187  -0.142735 -0.159847       0.141423        -0.196430   \n",
      "127   -0.016786  -0.641634 -1.089866      -0.271433        -0.196430   \n",
      "128   -1.520724  -0.667892 -1.380497      -1.510002         2.160732   \n",
      "129   -1.520724  -0.667892 -1.380497      -1.510002         2.160732   \n",
      "130   -1.096083  -0.667892 -1.380497      -1.510002         1.689300   \n",
      "131   -0.866069  -0.129606 -0.624856      -1.251967         0.746435   \n",
      "132   -0.866069  -0.129606 -0.624856      -1.251967         0.982151   \n",
      "133   -0.370654  -0.523474 -1.060803      -0.271433         0.275002   \n",
      "134   -0.370654  -1.061759 -0.828298      -0.529468         0.039286   \n",
      "135   -1.166856  -1.376853 -1.293307      -1.226164         2.160732   \n",
      "136   -0.936842  -0.300282 -0.305162       0.141423         0.746435   \n",
      "137    0.425549  -0.050832  0.159847       0.141423         0.510719   \n",
      "138   -0.812988  -0.667892 -0.828298      -0.890718         1.689300   \n",
      "139   -0.777602  -0.549731 -1.351434      -0.735897        -0.196430   \n",
      "140    0.142454   0.881321  0.653920       0.760708        -0.432146   \n",
      "141   -1.043002  -1.652561 -1.293307      -0.684290         0.746435   \n",
      "142   -0.636055  -0.287153 -1.351434       0.141423        -0.196430   \n",
      "143    0.779416   0.618742  1.525812       1.921866        -2.082160   \n",
      "144   -1.255323  -1.127404 -0.828298      -0.890718         0.510719   \n",
      "145   -1.255323  -1.127404 -0.828298      -0.890718         0.510719   \n",
      "146   -0.636055  -0.142735 -0.770172      -0.400451         0.746435   \n",
      "147   -1.255323  -1.324338 -1.293307      -1.097146         0.510719   \n",
      "148   -1.255323  -1.127404 -0.828298      -0.864914         0.510719   \n",
      "149   -1.255323  -1.127404 -0.944550      -0.890718         0.510719   \n",
      "150   -0.459121  -0.917341 -1.031740      -0.555272         0.275002   \n",
      "151   -0.459121  -0.917341 -1.031740      -0.555272         0.275002   \n",
      "152   -0.317574  -0.339669 -0.537667      -0.013398         0.275002   \n",
      "153   -0.317574  -0.339669 -0.537667      -0.013398         0.275002   \n",
      "154    0.885577  -0.339669  0.101721       0.141423        -0.196430   \n",
      "155    0.266308   0.316777  0.276099       0.812315         0.039286   \n",
      "\n",
      "     Vehicle_type_Passenger  \n",
      "0                  0.587220  \n",
      "1                  0.587220  \n",
      "2                  0.587220  \n",
      "3                  0.587220  \n",
      "4                  0.587220  \n",
      "5                  0.587220  \n",
      "6                  0.587220  \n",
      "7                  0.587220  \n",
      "8                  0.587220  \n",
      "9                  0.587220  \n",
      "10                 0.587220  \n",
      "11                 0.587220  \n",
      "12                 0.587220  \n",
      "13                 0.587220  \n",
      "14                 0.587220  \n",
      "15                 0.587220  \n",
      "16                 0.587220  \n",
      "17                 0.587220  \n",
      "18                -1.702939  \n",
      "19                 0.587220  \n",
      "20                 0.587220  \n",
      "21                 0.587220  \n",
      "22                 0.587220  \n",
      "23                 0.587220  \n",
      "24                 0.587220  \n",
      "25                 0.587220  \n",
      "26                 0.587220  \n",
      "27                 0.587220  \n",
      "28                 0.587220  \n",
      "29                 0.587220  \n",
      "..                      ...  \n",
      "126                0.587220  \n",
      "127                0.587220  \n",
      "128                0.587220  \n",
      "129                0.587220  \n",
      "130                0.587220  \n",
      "131                0.587220  \n",
      "132                0.587220  \n",
      "133                0.587220  \n",
      "134               -1.702939  \n",
      "135                0.587220  \n",
      "136                0.587220  \n",
      "137                0.587220  \n",
      "138                0.587220  \n",
      "139               -1.702939  \n",
      "140               -1.702939  \n",
      "141               -1.702939  \n",
      "142               -1.702939  \n",
      "143               -1.702939  \n",
      "144                0.587220  \n",
      "145                0.587220  \n",
      "146                0.587220  \n",
      "147                0.587220  \n",
      "148                0.587220  \n",
      "149                0.587220  \n",
      "150                0.587220  \n",
      "151                0.587220  \n",
      "152                0.587220  \n",
      "153                0.587220  \n",
      "154                0.587220  \n",
      "155                0.587220  \n",
      "\n",
      "[156 rows x 6 columns]\n"
     ]
    }
   ],
   "source": [
    "columns = ['Sales_in_thousands','Horsepower','Wheelbase','Width','Fuel_capacity','Fuel_efficiency','Vehicle_type_Passenger']\n",
    "def lr(std):\n",
    "    cars= pd.DataFrame(std)\n",
    "    cars.columns = columns\n",
    "    return cars\n",
    "cars = lr(std)\n",
    "X = pd.DataFrame()\n",
    "feature_cols = ['Horsepower','Wheelbase','Width','Fuel_capacity','Fuel_efficiency','Vehicle_type_Passenger']                \n",
    "def lr(cars):\n",
    "    X = cars[feature_cols]\n",
    "    return X\n",
    "X = lr(cars)\n",
    "print(X)"
   ]
  },
  {
   "cell_type": "code",
   "execution_count": 83,
   "metadata": {},
   "outputs": [
    {
     "name": "stdout",
     "output_type": "stream",
     "text": [
      "<class 'pandas.core.frame.DataFrame'>\n",
      "(156, 6)\n"
     ]
    }
   ],
   "source": [
    "print(type(X))\n",
    "print(X.shape)"
   ]
  },
  {
   "cell_type": "markdown",
   "metadata": {},
   "source": [
    "## 11. Preparation of dependent variable for model"
   ]
  },
  {
   "cell_type": "code",
   "execution_count": 88,
   "metadata": {},
   "outputs": [
    {
     "data": {
      "text/plain": [
       "0    16.919\n",
       "1    39.384\n",
       "2    14.114\n",
       "3     8.588\n",
       "4    20.397\n",
       "Name: Sales_in_thousands, dtype: float64"
      ]
     },
     "execution_count": 88,
     "metadata": {},
     "output_type": "execute_result"
    }
   ],
   "source": [
    "y = pd.DataFrame()\n",
    "y = car_dummy['Sales_in_thousands']\n",
    "y.head()"
   ]
  },
  {
   "cell_type": "markdown",
   "metadata": {},
   "source": [
    "## 12. Split X and Y variable into train and test data"
   ]
  },
  {
   "cell_type": "code",
   "execution_count": 93,
   "metadata": {},
   "outputs": [],
   "source": [
    "from sklearn.model_selection import train_test_split\n",
    "def lr():\n",
    "    return train_test_split(X, y, test_size=0.20, random_state=1)\n",
    "X_train, X_test, y_train, y_test = lr()"
   ]
  },
  {
   "cell_type": "code",
   "execution_count": 94,
   "metadata": {},
   "outputs": [
    {
     "name": "stdout",
     "output_type": "stream",
     "text": [
      "(124, 6)\n",
      "(124,)\n"
     ]
    }
   ],
   "source": [
    "print(X_train.shape)\n",
    "print(y_train.shape)"
   ]
  },
  {
   "cell_type": "code",
   "execution_count": 101,
   "metadata": {},
   "outputs": [
    {
     "name": "stdout",
     "output_type": "stream",
     "text": [
      "(32, 6)\n",
      "(32,)\n"
     ]
    }
   ],
   "source": [
    "print(X_test.shape)\n",
    "print(y_test.shape)"
   ]
  },
  {
   "cell_type": "markdown",
   "metadata": {},
   "source": [
    "## 13. Linear Regression model 1 build"
   ]
  },
  {
   "cell_type": "code",
   "execution_count": 95,
   "metadata": {},
   "outputs": [],
   "source": [
    "from sklearn.linear_model import LinearRegression\n",
    "def lr():\n",
    "    linreg = LinearRegression()\n",
    "    return linreg\n",
    "linreg = lr()"
   ]
  },
  {
   "cell_type": "markdown",
   "metadata": {},
   "source": [
    "### 13.1 Linear model fit"
   ]
  },
  {
   "cell_type": "code",
   "execution_count": 103,
   "metadata": {},
   "outputs": [],
   "source": [
    "def lr():\n",
    "    linreg.fit(X_train, y_train)  \n",
    "lr()"
   ]
  },
  {
   "cell_type": "markdown",
   "metadata": {},
   "source": [
    "### 13.2 Model intercept and coefficient interpretation"
   ]
  },
  {
   "cell_type": "code",
   "execution_count": 97,
   "metadata": {},
   "outputs": [
    {
     "name": "stdout",
     "output_type": "stream",
     "text": [
      "Intercept: 58.047290723196475\n",
      "Coefficients: [-21.36183155  32.49282655  11.36695318 -19.80836917  -2.13282781\n",
      " -10.25966629]\n"
     ]
    }
   ],
   "source": [
    "def lr():\n",
    "    print('Intercept:',linreg.intercept_)                                            \n",
    "    print('Coefficients:',linreg.coef_)\n",
    "lr()"
   ]
  },
  {
   "cell_type": "markdown",
   "metadata": {},
   "source": [
    "### 13.3 Feature name pairing with coefficient"
   ]
  },
  {
   "cell_type": "code",
   "execution_count": 98,
   "metadata": {},
   "outputs": [
    {
     "name": "stdout",
     "output_type": "stream",
     "text": [
      "Intercept 58.047290723196475\n",
      "Horsepower -21.361831548694237\n",
      "Wheelbase 32.49282655469219\n",
      "Width 11.366953181519188\n",
      "Fuel_capacity -19.808369165932568\n",
      "Fuel_efficiency -2.1328278052500864\n",
      "Vehicle_type_Passenger -10.259666294087095\n"
     ]
    }
   ],
   "source": [
    "def lr():\n",
    "    feature_cols.insert(0,'Intercept')\n",
    "    coef = linreg.coef_.tolist()\n",
    "    coef.insert(0, linreg.intercept_)\n",
    "    eq1 = zip(feature_cols, coef)\n",
    "    for c1,c2 in eq1:\n",
    "        print(c1,c2)\n",
    "lr()"
   ]
  },
  {
   "cell_type": "markdown",
   "metadata": {},
   "source": [
    "### 13.4 Train value prediction using model"
   ]
  },
  {
   "cell_type": "code",
   "execution_count": 100,
   "metadata": {},
   "outputs": [
    {
     "data": {
      "text/html": [
       "<div>\n",
       "<style scoped>\n",
       "    .dataframe tbody tr th:only-of-type {\n",
       "        vertical-align: middle;\n",
       "    }\n",
       "\n",
       "    .dataframe tbody tr th {\n",
       "        vertical-align: top;\n",
       "    }\n",
       "\n",
       "    .dataframe thead th {\n",
       "        text-align: right;\n",
       "    }\n",
       "</style>\n",
       "<table border=\"1\" class=\"dataframe\">\n",
       "  <thead>\n",
       "    <tr style=\"text-align: right;\">\n",
       "      <th></th>\n",
       "      <th>Sales</th>\n",
       "    </tr>\n",
       "  </thead>\n",
       "  <tbody>\n",
       "    <tr>\n",
       "      <th>0</th>\n",
       "      <td>23.727196</td>\n",
       "    </tr>\n",
       "    <tr>\n",
       "      <th>1</th>\n",
       "      <td>66.218289</td>\n",
       "    </tr>\n",
       "    <tr>\n",
       "      <th>2</th>\n",
       "      <td>41.364619</td>\n",
       "    </tr>\n",
       "    <tr>\n",
       "      <th>3</th>\n",
       "      <td>47.541929</td>\n",
       "    </tr>\n",
       "    <tr>\n",
       "      <th>4</th>\n",
       "      <td>24.939834</td>\n",
       "    </tr>\n",
       "  </tbody>\n",
       "</table>\n",
       "</div>"
      ],
      "text/plain": [
       "       Sales\n",
       "0  23.727196\n",
       "1  66.218289\n",
       "2  41.364619\n",
       "3  47.541929\n",
       "4  24.939834"
      ]
     },
     "execution_count": 100,
     "metadata": {},
     "output_type": "execute_result"
    }
   ],
   "source": [
    "y_pred_train = linreg.predict(X_train)\n",
    "pred= pd.DataFrame(y_pred_train)\n",
    "def lr():  \n",
    "    pred.columns = ['Sales']\n",
    "    head = pred.head()\n",
    "    return head\n",
    "lr()"
   ]
  },
  {
   "cell_type": "markdown",
   "metadata": {},
   "source": [
    "### 13.5 Test value prediction using model"
   ]
  },
  {
   "cell_type": "code",
   "execution_count": 99,
   "metadata": {},
   "outputs": [
    {
     "data": {
      "text/html": [
       "<div>\n",
       "<style scoped>\n",
       "    .dataframe tbody tr th:only-of-type {\n",
       "        vertical-align: middle;\n",
       "    }\n",
       "\n",
       "    .dataframe tbody tr th {\n",
       "        vertical-align: top;\n",
       "    }\n",
       "\n",
       "    .dataframe thead th {\n",
       "        text-align: right;\n",
       "    }\n",
       "</style>\n",
       "<table border=\"1\" class=\"dataframe\">\n",
       "  <thead>\n",
       "    <tr style=\"text-align: right;\">\n",
       "      <th></th>\n",
       "      <th>Sales</th>\n",
       "    </tr>\n",
       "  </thead>\n",
       "  <tbody>\n",
       "    <tr>\n",
       "      <th>0</th>\n",
       "      <td>55.571487</td>\n",
       "    </tr>\n",
       "    <tr>\n",
       "      <th>1</th>\n",
       "      <td>23.365372</td>\n",
       "    </tr>\n",
       "    <tr>\n",
       "      <th>2</th>\n",
       "      <td>67.685501</td>\n",
       "    </tr>\n",
       "    <tr>\n",
       "      <th>3</th>\n",
       "      <td>82.490128</td>\n",
       "    </tr>\n",
       "    <tr>\n",
       "      <th>4</th>\n",
       "      <td>48.172190</td>\n",
       "    </tr>\n",
       "  </tbody>\n",
       "</table>\n",
       "</div>"
      ],
      "text/plain": [
       "       Sales\n",
       "0  55.571487\n",
       "1  23.365372\n",
       "2  67.685501\n",
       "3  82.490128\n",
       "4  48.172190"
      ]
     },
     "execution_count": 99,
     "metadata": {},
     "output_type": "execute_result"
    }
   ],
   "source": [
    "y_pred_test = linreg.predict(X_test)    \n",
    "pred_test= pd.DataFrame(y_pred_test)\n",
    "def lr():\n",
    "    pred_test.columns=['Sales']\n",
    "    head = pred_test.head()\n",
    "    return head\n",
    "lr()"
   ]
  },
  {
   "cell_type": "markdown",
   "metadata": {},
   "source": [
    "### 13.6 Mean Absolute Error Model Evaluation"
   ]
  },
  {
   "cell_type": "code",
   "execution_count": 110,
   "metadata": {},
   "outputs": [
    {
     "name": "stdout",
     "output_type": "stream",
     "text": [
      "MAE for training set is 45.68899825988919\n",
      "MAE for test set is 43.85008982682457\n"
     ]
    }
   ],
   "source": [
    "from sklearn import metrics\n",
    "def lr():\n",
    "    MAE_train = metrics.mean_absolute_error(y_train, y_pred_train)\n",
    "    MAE_test = metrics.mean_absolute_error(y_test, y_pred_test)\n",
    "    print('MAE for training set is {}'.format(MAE_train))\n",
    "    print('MAE for test set is {}'.format(MAE_test))\n",
    "lr()"
   ]
  },
  {
   "cell_type": "markdown",
   "metadata": {},
   "source": [
    "### 13.7 Mean Square Error Model Evaluation"
   ]
  },
  {
   "cell_type": "code",
   "execution_count": 111,
   "metadata": {},
   "outputs": [
    {
     "name": "stdout",
     "output_type": "stream",
     "text": [
      "MSE for training set is 4449.472996179814\n",
      "MSE for test set is 3903.8874783032034\n"
     ]
    }
   ],
   "source": [
    "def lr():\n",
    "    MSE_train = metrics.mean_squared_error(y_train, y_pred_train)\n",
    "    MSE_test = metrics.mean_squared_error(y_test, y_pred_test)\n",
    "    print('MSE for training set is {}'.format(MSE_train))\n",
    "    print('MSE for test set is {}'.format(MSE_test))\n",
    "lr()"
   ]
  },
  {
   "cell_type": "markdown",
   "metadata": {},
   "source": [
    "### 13.8 Root Mean Square Error Model Evaluation"
   ]
  },
  {
   "cell_type": "code",
   "execution_count": 113,
   "metadata": {},
   "outputs": [
    {
     "name": "stdout",
     "output_type": "stream",
     "text": [
      "RMSE for training set is 66.70437014304096\n",
      "RMSE for test set is 62.48109696782863\n"
     ]
    }
   ],
   "source": [
    "import numpy as np\n",
    "def lr():\n",
    "    RMSE_train = np.sqrt( metrics.mean_squared_error(y_train, y_pred_train))\n",
    "    RMSE_test = np.sqrt(metrics.mean_squared_error(y_test, y_pred_test))\n",
    "    print('RMSE for training set is {}'.format(RMSE_train))\n",
    "    print('RMSE for test set is {}'.format(RMSE_test))\n",
    "lr()"
   ]
  },
  {
   "cell_type": "markdown",
   "metadata": {},
   "source": [
    "## 14. Linear Regression model 2 build"
   ]
  },
  {
   "cell_type": "code",
   "execution_count": 125,
   "metadata": {},
   "outputs": [],
   "source": [
    "from sklearn.model_selection import train_test_split\n",
    "def lr():\n",
    "    return train_test_split(X, y, test_size=0.3, random_state=1)\n",
    "X_train, X_test, y_train, y_test = lr()"
   ]
  },
  {
   "cell_type": "code",
   "execution_count": 126,
   "metadata": {},
   "outputs": [],
   "source": [
    "from sklearn.linear_model import LinearRegression\n",
    "def lr():\n",
    "    linreg = LinearRegression()\n",
    "    return linreg\n",
    "linreg = lr()"
   ]
  },
  {
   "cell_type": "markdown",
   "metadata": {},
   "source": [
    "### 14.1 Linear model fit"
   ]
  },
  {
   "cell_type": "code",
   "execution_count": 127,
   "metadata": {},
   "outputs": [],
   "source": [
    "def lr():\n",
    "    linreg.fit(X_train, y_train)  \n",
    "lr()"
   ]
  },
  {
   "cell_type": "markdown",
   "metadata": {},
   "source": [
    "### 14.2 Cofficient and Intercept Interpretation"
   ]
  },
  {
   "cell_type": "code",
   "execution_count": 128,
   "metadata": {},
   "outputs": [
    {
     "name": "stdout",
     "output_type": "stream",
     "text": [
      "Intercept: 59.52226672604195\n",
      "Coefficients: [-24.31321644  34.40793168  12.03334834 -23.42187595  -6.18733941\n",
      "  -9.40610521]\n"
     ]
    }
   ],
   "source": [
    "def lr():\n",
    "    print('Intercept:',linreg.intercept_)                                            \n",
    "    print('Coefficients:',linreg.coef_)\n",
    "lr()"
   ]
  },
  {
   "cell_type": "markdown",
   "metadata": {},
   "source": [
    "### 14.3 Train model prediction"
   ]
  },
  {
   "cell_type": "code",
   "execution_count": 129,
   "metadata": {},
   "outputs": [
    {
     "data": {
      "text/html": [
       "<div>\n",
       "<style scoped>\n",
       "    .dataframe tbody tr th:only-of-type {\n",
       "        vertical-align: middle;\n",
       "    }\n",
       "\n",
       "    .dataframe tbody tr th {\n",
       "        vertical-align: top;\n",
       "    }\n",
       "\n",
       "    .dataframe thead th {\n",
       "        text-align: right;\n",
       "    }\n",
       "</style>\n",
       "<table border=\"1\" class=\"dataframe\">\n",
       "  <thead>\n",
       "    <tr style=\"text-align: right;\">\n",
       "      <th></th>\n",
       "      <th>Sales</th>\n",
       "    </tr>\n",
       "  </thead>\n",
       "  <tbody>\n",
       "    <tr>\n",
       "      <th>0</th>\n",
       "      <td>67.589336</td>\n",
       "    </tr>\n",
       "    <tr>\n",
       "      <th>1</th>\n",
       "      <td>34.781201</td>\n",
       "    </tr>\n",
       "    <tr>\n",
       "      <th>2</th>\n",
       "      <td>49.154747</td>\n",
       "    </tr>\n",
       "    <tr>\n",
       "      <th>3</th>\n",
       "      <td>51.594839</td>\n",
       "    </tr>\n",
       "    <tr>\n",
       "      <th>4</th>\n",
       "      <td>89.911369</td>\n",
       "    </tr>\n",
       "  </tbody>\n",
       "</table>\n",
       "</div>"
      ],
      "text/plain": [
       "       Sales\n",
       "0  67.589336\n",
       "1  34.781201\n",
       "2  49.154747\n",
       "3  51.594839\n",
       "4  89.911369"
      ]
     },
     "execution_count": 129,
     "metadata": {},
     "output_type": "execute_result"
    }
   ],
   "source": [
    "y_pred_train = linreg.predict(X_train)\n",
    "pred= pd.DataFrame(y_pred_train)\n",
    "def lr():  \n",
    "    pred.columns = ['Sales']\n",
    "    head = pred.head()\n",
    "    return head\n",
    "lr()"
   ]
  },
  {
   "cell_type": "markdown",
   "metadata": {},
   "source": [
    "### 14.4 Test model prediction"
   ]
  },
  {
   "cell_type": "code",
   "execution_count": 130,
   "metadata": {},
   "outputs": [
    {
     "data": {
      "text/html": [
       "<div>\n",
       "<style scoped>\n",
       "    .dataframe tbody tr th:only-of-type {\n",
       "        vertical-align: middle;\n",
       "    }\n",
       "\n",
       "    .dataframe tbody tr th {\n",
       "        vertical-align: top;\n",
       "    }\n",
       "\n",
       "    .dataframe thead th {\n",
       "        text-align: right;\n",
       "    }\n",
       "</style>\n",
       "<table border=\"1\" class=\"dataframe\">\n",
       "  <thead>\n",
       "    <tr style=\"text-align: right;\">\n",
       "      <th></th>\n",
       "      <th>Sales</th>\n",
       "    </tr>\n",
       "  </thead>\n",
       "  <tbody>\n",
       "    <tr>\n",
       "      <th>0</th>\n",
       "      <td>57.766659</td>\n",
       "    </tr>\n",
       "    <tr>\n",
       "      <th>1</th>\n",
       "      <td>21.388687</td>\n",
       "    </tr>\n",
       "    <tr>\n",
       "      <th>2</th>\n",
       "      <td>69.078285</td>\n",
       "    </tr>\n",
       "    <tr>\n",
       "      <th>3</th>\n",
       "      <td>86.176991</td>\n",
       "    </tr>\n",
       "    <tr>\n",
       "      <th>4</th>\n",
       "      <td>51.751474</td>\n",
       "    </tr>\n",
       "  </tbody>\n",
       "</table>\n",
       "</div>"
      ],
      "text/plain": [
       "       Sales\n",
       "0  57.766659\n",
       "1  21.388687\n",
       "2  69.078285\n",
       "3  86.176991\n",
       "4  51.751474"
      ]
     },
     "execution_count": 130,
     "metadata": {},
     "output_type": "execute_result"
    }
   ],
   "source": [
    "y_pred_test = linreg.predict(X_test)    \n",
    "pred_test= pd.DataFrame(y_pred_test)\n",
    "def lr():\n",
    "    pred_test.columns=['Sales']\n",
    "    head = pred_test.head()\n",
    "    return head\n",
    "lr()"
   ]
  },
  {
   "cell_type": "markdown",
   "metadata": {},
   "source": [
    "### 14.5 Root Mean Square Error Model Evaluation"
   ]
  },
  {
   "cell_type": "code",
   "execution_count": 131,
   "metadata": {},
   "outputs": [
    {
     "name": "stdout",
     "output_type": "stream",
     "text": [
      "RMSE for training set is 68.84038475381199\n",
      "RMSE for test set is 58.926074722927865\n"
     ]
    }
   ],
   "source": [
    "import numpy as np\n",
    "def lr():\n",
    "    RMSE_train = np.sqrt( metrics.mean_squared_error(y_train, y_pred_train))\n",
    "    RMSE_test = np.sqrt(metrics.mean_squared_error(y_test, y_pred_test))\n",
    "    print('RMSE for training set is {}'.format(RMSE_train))\n",
    "    print('RMSE for test set is {}'.format(RMSE_test))\n",
    "lr()"
   ]
  },
  {
   "attachments": {},
   "cell_type": "markdown",
   "metadata": {},
   "source": [
    "## Model Evaluation Analysis:\n",
    "\n",
    "Model 1 equation:\n",
    "Y = 58.04 – (21.36 * Horsepower) + (32.49 * Wheelbase) + (11.36 * Width) – (19.08 * Fuel Capacity) – (2.13* Fuel Efficiency) – (10.25 * Vehicle Type)\n",
    "\n",
    "Model 2 equation:\n",
    "Y = 59.52 – (24.31 * Horsepower) + (34.40 * Wheelbase) + (12.03 * Width) – (23.42 * Fuel Capacity) – (6.18* Fuel Efficiency) – (9.4 * Vehicle Type)\n",
    "\n",
    "### From the analysis based on model 1 and model 2, for train data the RMSE is less for model 1 and for test data the RMSE is less for model 2\n",
    "#### Model 1 accounts 80% of train data and 20% of test data\n",
    "#### Model 2 accounts 70% of train data and 30% of test data"
   ]
  },
  {
   "cell_type": "code",
   "execution_count": null,
   "metadata": {},
   "outputs": [],
   "source": []
  },
  {
   "cell_type": "code",
   "execution_count": null,
   "metadata": {},
   "outputs": [],
   "source": []
  }
 ],
 "metadata": {
  "kernelspec": {
   "display_name": "Python 3",
   "language": "python",
   "name": "python3"
  },
  "language_info": {
   "codemirror_mode": {
    "name": "ipython",
    "version": 3
   },
   "file_extension": ".py",
   "mimetype": "text/x-python",
   "name": "python",
   "nbconvert_exporter": "python",
   "pygments_lexer": "ipython3",
   "version": "3.7.1"
  }
 },
 "nbformat": 4,
 "nbformat_minor": 2
}
